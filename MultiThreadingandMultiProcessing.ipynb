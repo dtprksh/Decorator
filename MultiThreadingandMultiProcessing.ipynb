{
 "cells": [
  {
   "cell_type": "code",
   "execution_count": 1,
   "metadata": {},
   "outputs": [],
   "source": [
    "import multiprocessing"
   ]
  },
  {
   "cell_type": "code",
   "execution_count": 2,
   "metadata": {},
   "outputs": [
    {
     "name": "stdout",
     "output_type": "stream",
     "text": [
      "4\n"
     ]
    }
   ],
   "source": [
    "print(multiprocessing.cpu_count())"
   ]
  },
  {
   "cell_type": "code",
   "execution_count": 3,
   "metadata": {},
   "outputs": [
    {
     "name": "stdout",
     "output_type": "stream",
     "text": [
      "pushing items to queue:\n",
      "item no:  1   red\n",
      "item no:  2   green\n",
      "item no:  3   blue\n",
      "item no:  4   black\n",
      "\n",
      "popping items from queue:\n",
      "item no:  0   red\n",
      "item no:  1   green\n",
      "item no:  2   blue\n",
      "item no:  3   black\n"
     ]
    }
   ],
   "source": [
    "from multiprocessing import Queue\n",
    "\n",
    "colors = ['red', 'green', 'blue', 'black']\n",
    "cnt = 1\n",
    "# instantiating a queue object\n",
    "queue = Queue()\n",
    "print('pushing items to queue:')\n",
    "for color in colors:\n",
    "    print('item no: ', cnt, ' ', color)\n",
    "    queue.put(color)\n",
    "    cnt += 1\n",
    "\n",
    "print('\\npopping items from queue:')\n",
    "cnt = 0\n",
    "while not queue.empty():\n",
    "    print('item no: ', cnt, ' ', queue.get())\n",
    "    cnt += 1"
   ]
  },
  {
   "cell_type": "code",
   "execution_count": 1,
   "metadata": {},
   "outputs": [
    {
     "name": "stdout",
     "output_type": "stream",
     "text": [
      "Task no 0\n",
      "Task no 1\n",
      "Task no 2\n",
      "Task no 5\n",
      "Task no 3\n",
      "Task no 4\n",
      "Task no 6\n",
      "Task no 11\n",
      "Task no 8\n",
      "Task no 12\n",
      "Task no 13\n",
      "Task no 7\n",
      "Task no 9\n",
      "Task no 10\n",
      "Task no 14\n",
      "Task no 15\n",
      "Task no 16\n",
      "Task no 17\n",
      "Task no 18\n",
      "Task no 19\n",
      "Task no 20\n",
      "Task no 21\n",
      "Task no 22\n",
      "Task no 23\n",
      "Task no 24\n",
      "Task no 25\n",
      "Task no 26\n",
      "Task no 29\n",
      "Task no 27\n",
      "Task no 30\n",
      "Task no 31\n",
      "Task no 32\n",
      "Task no 28\n",
      "Task no 33\n",
      "Task no 34\n",
      "Task no 35\n",
      "Task no 36\n",
      "Task no 37\n",
      "Task no 38\n",
      "Task no 39\n",
      "Task no 40\n",
      "Task no 41\n",
      "Task no 42\n",
      "Task no 43\n",
      "Task no 44\n",
      "Task no 47\n",
      "Task no 46\n",
      "Task no 48\n",
      "Task no 45\n",
      "Task no 49\n",
      "Task no 50\n",
      "Task no 51\n",
      "Task no 52\n",
      "Task no 53\n",
      "Task no 54\n",
      "Task no 55\n",
      "Task no 56\n",
      "Task no 57\n",
      "Task no 58\n",
      "Task no 59\n",
      "Task no 60\n",
      "Task no 61\n",
      "Task no 63\n",
      "Task no 62\n",
      "Task no 64\n",
      "Task no 65\n",
      "Task no 66\n",
      "Task no 67\n",
      "Task no 68\n",
      "Task no 69\n",
      "Task no 70\n",
      "Task no 71\n",
      "Task no 72\n",
      "Task no 73\n",
      "Task no 74\n",
      "Task no 75\n",
      "Task no 76\n",
      "Task no 77\n",
      "Task no 78\n",
      "Task no 80\n",
      "Task no 79\n",
      "Task no 81\n",
      "Task no 82\n",
      "Task no 83\n",
      "Task no 84\n",
      "Task no 85\n",
      "Task no 86\n",
      "Task no 87\n",
      "Task no 88\n",
      "Task no 89\n",
      "Task no 90\n",
      "Task no 91\n",
      "Task no 92\n",
      "Task no 93\n",
      "Task no 95\n",
      "Task no 94\n",
      "Task no 96\n",
      "Task no 97\n",
      "Task no 98\n",
      "Task no 99\n",
      "Task no 0 is done by Process-1\n",
      "Task no 1 is done by Process-2\n",
      "Task no 5 is done by Process-6\n",
      "Task no 4 is done by Process-5\n",
      "Task no 3 is done by Process-4\n",
      "Task no 2 is done by Process-3\n",
      "Task no 6 is done by Process-7\n",
      "Task no 11 is done by Process-12\n",
      "Task no 13 is done by Process-14\n",
      "Task no 9 is done by Process-10\n",
      "Task no 8 is done by Process-9\n",
      "Task no 10 is done by Process-11\n",
      "Task no 7 is done by Process-8\n",
      "Task no 12 is done by Process-13\n",
      "Task no 14 is done by Process-15\n",
      "Task no 15 is done by Process-17\n",
      "Task no 16 is done by Process-16\n",
      "Task no 17 is done by Process-18\n",
      "Task no 18 is done by Process-19\n",
      "Task no 19 is done by Process-20\n",
      "Task no 20 is done by Process-1\n",
      "Task no 21 is done by Process-2\n",
      "Task no 22 is done by Process-6\n",
      "Task no 23 is done by Process-4\n",
      "Task no 24 is done by Process-3\n",
      "Task no 25 is done by Process-7\n",
      "Task no 26 is done by Process-12\n",
      "Task no 29 is done by Process-8\n",
      "Task no 31 is done by Process-13\n",
      "Task no 28 is done by Process-10\n",
      "Task no 30 is done by Process-11\n",
      "Task no 32 is done by Process-15\n",
      "Task no 27 is done by Process-14\n",
      "Task no 33 is done by Process-17\n",
      "Task no 34 is done by Process-16\n",
      "Task no 35 is done by Process-18\n",
      "Task no 36 is done by Process-19\n",
      "Task no 37 is done by Process-20\n",
      "Task no 38 is done by Process-1\n",
      "Task no 39 is done by Process-2\n",
      "Task no 40 is done by Process-6\n",
      "Task no 41 is done by Process-3\n",
      "Task no 42 is done by Process-7\n",
      "Task no 43 is done by Process-12\n",
      "Task no 44 is done by Process-8\n",
      "Task no 47 is done by Process-10\n",
      "Task no 46 is done by Process-13\n",
      "Task no 48 is done by Process-15\n",
      "Task no 45 is done by Process-11\n",
      "Task no 49 is done by Process-14\n",
      "Task no 50 is done by Process-17\n",
      "Task no 51 is done by Process-16\n",
      "Task no 52 is done by Process-18\n",
      "Task no 53 is done by Process-19\n",
      "Task no 54 is done by Process-20\n",
      "Task no 55 is done by Process-1\n",
      "Task no 56 is done by Process-2\n",
      "Task no 57 is done by Process-6\n",
      "Task no 58 is done by Process-3\n",
      "Task no 59 is done by Process-7\n",
      "Task no 60 is done by Process-12\n",
      "Task no 61 is done by Process-8\n",
      "Task no 62 is done by Process-10\n",
      "Task no 63 is done by Process-13\n",
      "Task no 64 is done by Process-14\n",
      "Task no 66 is done by Process-11\n",
      "Task no 65 is done by Process-15\n",
      "Task no 67 is done by Process-17\n",
      "Task no 68 is done by Process-16\n",
      "Task no 69 is done by Process-18\n",
      "Task no 70 is done by Process-19\n",
      "Task no 71 is done by Process-20\n",
      "Task no 72 is done by Process-1\n",
      "Task no 73 is done by Process-2\n",
      "Task no 74 is done by Process-6\n",
      "Task no 75 is done by Process-3\n",
      "Task no 76 is done by Process-7\n",
      "Task no 77 is done by Process-12\n",
      "Task no 78 is done by Process-8\n",
      "Task no 80 is done by Process-10\n",
      "Task no 79 is done by Process-13\n",
      "Task no 82 is done by Process-15\n",
      "Task no 81 is done by Process-11\n",
      "Task no 83 is done by Process-17\n",
      "Task no 84 is done by Process-16\n",
      "Task no 85 is done by Process-18\n",
      "Task no 86 is done by Process-19\n",
      "Task no 87 is done by Process-1\n",
      "Task no 88 is done by Process-2\n",
      "Task no 89 is done by Process-6\n",
      "Task no 90 is done by Process-3\n",
      "Task no 91 is done by Process-7\n",
      "Task no 92 is done by Process-12\n",
      "Task no 94 is done by Process-10\n",
      "Task no 93 is done by Process-8\n",
      "Task no 95 is done by Process-13\n",
      "Task no 96 is done by Process-15\n",
      "Task no 97 is done by Process-11\n",
      "Task no 98 is done by Process-17\n",
      "Task no 99 is done by Process-16\n"
     ]
    }
   ],
   "source": [
    "\n",
    "from multiprocessing import Lock, Process, Queue, current_process\n",
    "import time\n",
    "import queue # imported for using queue.Empty exception\n",
    "\n",
    "\n",
    "def do_job(tasks_to_accomplish, tasks_that_are_done):\n",
    "    while True:\n",
    "        try:\n",
    "            '''\n",
    "                try to get task from the queue. get_nowait() function will \n",
    "                raise queue.Empty exception if the queue is empty. \n",
    "                queue(False) function would do the same task also.\n",
    "            '''\n",
    "            task = tasks_to_accomplish.get_nowait()\n",
    "        except queue.Empty:\n",
    "\n",
    "            break\n",
    "        else:\n",
    "            '''\n",
    "                if no exception has been raised, add the task completion \n",
    "                message to task_that_are_done queue\n",
    "            '''\n",
    "            print(task)\n",
    "            tasks_that_are_done.put(task + ' is done by ' + current_process().name)\n",
    "            time.sleep(.5)\n",
    "    return True\n",
    "\n",
    "\n",
    "def main():\n",
    "    number_of_task = 100\n",
    "    number_of_processes = 20\n",
    "    tasks_to_accomplish = Queue()\n",
    "    tasks_that_are_done = Queue()\n",
    "    processes = []\n",
    "\n",
    "    for i in range(number_of_task):\n",
    "        tasks_to_accomplish.put(\"Task no \" + str(i))\n",
    "\n",
    "    # creating processes\n",
    "    for w in range(number_of_processes):\n",
    "        p = Process(target=do_job, args=(tasks_to_accomplish, tasks_that_are_done))\n",
    "        processes.append(p)\n",
    "        p.start()\n",
    "\n",
    "    # completing process\n",
    "    for p in processes:\n",
    "        p.join()\n",
    "\n",
    "    # print the output\n",
    "    while not tasks_that_are_done.empty():\n",
    "        print(tasks_that_are_done.get())\n",
    "\n",
    "    return True\n",
    "\n",
    "\n",
    "if __name__ == '__main__':\n",
    "    main()\n"
   ]
  },
  {
   "cell_type": "code",
   "execution_count": 3,
   "metadata": {},
   "outputs": [
    {
     "name": "stdout",
     "output_type": "stream",
     "text": [
      " Process B waiting 2 seconds\n",
      " Process A waiting 5 seconds\n",
      " Process D waiting 3 seconds\n",
      " Process C waiting 1 seconds\n",
      " Process C Finished.\n",
      " Process B Finished.\n",
      " Process D Finished.\n",
      " Process A Finished.\n"
     ]
    }
   ],
   "source": [
    "from multiprocessing import Pool\n",
    "\n",
    "import time\n",
    "\n",
    "work = ([\"A\", 5], [\"B\", 2], [\"C\", 1], [\"D\", 3])\n",
    "\n",
    "\n",
    "def work_log(work_data):\n",
    "    print(\" Process %s waiting %s seconds\" % (work_data[0], work_data[1]))\n",
    "    time.sleep(int(work_data[1]))\n",
    "    print(\" Process %s Finished.\" % work_data[0])\n",
    "\n",
    "\n",
    "def pool_handler():\n",
    "    p = Pool(4)\n",
    "    p.map(work_log, work)\n",
    "\n",
    "\n",
    "if __name__ == '__main__':\n",
    "    pool_handler()"
   ]
  },
  {
   "cell_type": "code",
   "execution_count": 4,
   "metadata": {},
   "outputs": [
    {
     "name": "stdout",
     "output_type": "stream",
     "text": [
      "[1, 4, 9]\n"
     ]
    }
   ],
   "source": [
    "from multiprocessing import Pool\n",
    "\n",
    "def f(x):\n",
    "    return x*x\n",
    "\n",
    "if __name__ == '__main__':\n",
    "    p = Pool(5)\n",
    "    print(p.map(f, [1, 2, 3]))"
   ]
  },
  {
   "cell_type": "code",
   "execution_count": 8,
   "metadata": {},
   "outputs": [
    {
     "name": "stdout",
     "output_type": "stream",
     "text": [
      "hello ('bob', 'aditya')\n"
     ]
    }
   ],
   "source": [
    "from multiprocessing import Process\n",
    "\n",
    "def f(*name):\n",
    "    print ('hello', name)\n",
    "\n",
    "if __name__ == '__main__':\n",
    "    p = Process(target=f, args=('bob','aditya'))\n",
    "    p.start()\n",
    "    p.join()"
   ]
  },
  {
   "cell_type": "code",
   "execution_count": 10,
   "metadata": {},
   "outputs": [
    {
     "name": "stdout",
     "output_type": "stream",
     "text": [
      "[42, None, 'hello']\n"
     ]
    }
   ],
   "source": [
    "from multiprocessing import Process, Queue\n",
    "\n",
    "def f(q):\n",
    "    q.put([42, None, 'hello'])\n",
    "\n",
    "if __name__ == '__main__':\n",
    "    q = Queue()\n",
    "    p = Process(target=f, args=(q,))\n",
    "    p.start()\n",
    "    print (q.get())    # prints \"[42, None, 'hello']\"\n",
    "    p.join()"
   ]
  },
  {
   "cell_type": "code",
   "execution_count": 12,
   "metadata": {},
   "outputs": [
    {
     "name": "stdout",
     "output_type": "stream",
     "text": [
      "hello world 0\n",
      "hello world 2\n",
      "hello world 1\n",
      "hello world 3\n",
      "hello world 4\n",
      "hello world 5\n",
      "hello world 6\n",
      "hello world 7\n",
      "hello world 9\n",
      "hello world 8\n"
     ]
    }
   ],
   "source": [
    "from multiprocessing import Process, Lock\n",
    "\n",
    "def f(l, i):\n",
    "    l.acquire()\n",
    "    print ('hello world', i)\n",
    "    l.release()\n",
    "\n",
    "if __name__ == '__main__':\n",
    "    lock = Lock()\n",
    "\n",
    "    for num in range(10):\n",
    "        Process(target=f, args=(lock, num)).start()"
   ]
  },
  {
   "cell_type": "code",
   "execution_count": 13,
   "metadata": {},
   "outputs": [
    {
     "name": "stdout",
     "output_type": "stream",
     "text": [
      "3.1415927\n",
      "[0, -1, -2, -3, -4, -5, -6, -7, -8, -9]\n"
     ]
    }
   ],
   "source": [
    "from multiprocessing import Process, Value, Array\n",
    "\n",
    "def f(n, a):\n",
    "    n.value = 3.1415927\n",
    "    for i in range(len(a)):\n",
    "        a[i] = -a[i]\n",
    "\n",
    "if __name__ == '__main__':\n",
    "    num = Value('d', 0.0)\n",
    "    arr = Array('i', range(10))\n",
    "\n",
    "    p = Process(target=f, args=(num, arr))\n",
    "    p.start()\n",
    "    p.join()\n",
    "\n",
    "    print (num.value)\n",
    "    print (arr[:])"
   ]
  },
  {
   "cell_type": "code",
   "execution_count": 16,
   "metadata": {},
   "outputs": [
    {
     "name": "stdout",
     "output_type": "stream",
     "text": [
      "Square: 49\n",
      "Quad: 2401\n"
     ]
    }
   ],
   "source": [
    "import threading\n",
    "def calc_square(number):\n",
    "    print('Square:' , number * number)\n",
    "def calc_quad(number):\n",
    "    print('Quad:' , number * number * number * number)\n",
    "if __name__ == \"__main__\":\n",
    "    number = 7\n",
    "    thread1 = threading.Thread(target=calc_square, args=(number,))\n",
    "    thread2 = threading.Thread(target=calc_quad, args=(number,))\n",
    "    # Will execute both in parallel\n",
    "    thread1.start()\n",
    "    thread2.start()\n",
    "    # Joins threads back to the parent process, which is this\n",
    "    # program\n",
    "    thread1.join()\n",
    "    thread2.join()"
   ]
  },
  {
   "cell_type": "code",
   "execution_count": 19,
   "metadata": {},
   "outputs": [
    {
     "name": "stdout",
     "output_type": "stream",
     "text": [
      "Square: 49\n",
      "Quad: 2401\n",
      "49\n"
     ]
    }
   ],
   "source": [
    "import multiprocessing\n",
    "def calc_square(number):\n",
    "    print('Square:' , number * number)\n",
    "    result = number * number\n",
    "    print(result)\n",
    "def calc_quad(number):\n",
    "    print('Quad:' , number * number * number * number)\n",
    "if __name__ == \"__main__\":\n",
    "    number = 7\n",
    "    result = None\n",
    "    p1 = multiprocessing.Process(target=calc_square, args=(number,))\n",
    "    p2 = multiprocessing.Process(target=calc_quad, args=(number,))\n",
    "    p1.start()\n",
    "    p2.start()\n",
    "    p1.join()\n",
    "    p2.join()"
   ]
  },
  {
   "cell_type": "code",
   "execution_count": null,
   "metadata": {},
   "outputs": [],
   "source": []
  }
 ],
 "metadata": {
  "kernelspec": {
   "display_name": "Python 3",
   "language": "python",
   "name": "python3"
  },
  "language_info": {
   "codemirror_mode": {
    "name": "ipython",
    "version": 3
   },
   "file_extension": ".py",
   "mimetype": "text/x-python",
   "name": "python",
   "nbconvert_exporter": "python",
   "pygments_lexer": "ipython3",
   "version": "3.6.5"
  }
 },
 "nbformat": 4,
 "nbformat_minor": 2
}
